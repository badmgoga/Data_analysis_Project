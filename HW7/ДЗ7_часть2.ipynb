{
  "cells": [
    {
      "cell_type": "markdown",
      "metadata": {
        "id": "e2si8R8cS2QW"
      },
      "source": [
        "# Задание\n",
        "\n",
        "С помощью API Google Books можно получать информацию о различных книгах. Например, вот так можно получить данные по книге по её ISBN: https://www.googleapis.com/books/v1/volumes?q=isbn:9785699648146. Напишите функцию book_table(isbn), принимающую на вход один ISBN и возвращающую информацию в следующем формате:\n",
        "\n",
        "`\n",
        "Название: Над пропастью во ржи\n",
        "Авторы: Джером Д Сэлинджер\n",
        "Язык: ru\n",
        "Число страниц: 332`"
      ]
    },
    {
      "cell_type": "code",
      "execution_count": null,
      "metadata": {
        "id": "wvyqDG0XS2QZ"
      },
      "outputs": [],
      "source": [
        "#здесь написать решение задания\n",
        "import requests\n",
        "\n",
        "def book_table(isbn):\n",
        "    a = requests.get(f'https://www.googleapis.com/books/v1/volumes?q=isbn:{isbn}') # подставляем параметр isbn\n",
        "    book_data = a.json()['items'][0]['volumeInfo'] # при работе с api используем json\n",
        "    title = book_data.get('title', 'Название не найдено') # название книги\n",
        "    authors = ', '.join(book_data.get('authors', ['Автор не найден'])) # находим авторов, если их несколько, то перечисляем через запятую\n",
        "    language = book_data.get('language', 'Язык не найден') # находим язык книги\n",
        "    page_count = book_data.get('pageCount', 'Число страниц не найдено') # находим кол-во страниц\n",
        "    return f\"Название: {title} Авторы: {authors} Язык: {language} Число страниц: {page_count}\" # возвращаем строку в том формате, в котором просят по заданию\n"
      ]
    },
    {
      "cell_type": "markdown",
      "metadata": {
        "id": "mp6FKnofS2Qa"
      },
      "source": [
        "### Проверьте себя"
      ]
    },
    {
      "cell_type": "code",
      "execution_count": null,
      "metadata": {
        "colab": {
          "base_uri": "https://localhost:8080/"
        },
        "id": "-1ZwtpoIS2Qa",
        "outputId": "edb07e35-7a5b-4f55-bea7-8735a8fcf05b"
      },
      "outputs": [
        {
          "output_type": "stream",
          "name": "stdout",
          "text": [
            "Название: Artificial Intelligence Авторы: Stuart Russell, Peter Norvig Язык: en Число страниц: 1152\n"
          ]
        }
      ],
      "source": [
        "b = book_table(9781292153964) #Artificial Intelligence\n",
        "print(b) # тест прошел проверку"
      ]
    },
    {
      "cell_type": "code",
      "execution_count": null,
      "metadata": {
        "colab": {
          "base_uri": "https://localhost:8080/"
        },
        "id": "DEqhL-qFS2Qa",
        "outputId": "8d689c2b-3b3f-4238-85d7-1e934a06d655"
      },
      "outputs": [
        {
          "output_type": "stream",
          "name": "stdout",
          "text": [
            "Название: Deep Learning Авторы: Ian Goodfellow, Yoshua Bengio, Aaron Courville Язык: en Число страниц: 801\n"
          ]
        }
      ],
      "source": [
        "b = book_table(9780262035613) #Deep Learning\n",
        "print(b) # тест прошел проверку"
      ]
    },
    {
      "cell_type": "code",
      "execution_count": null,
      "metadata": {
        "colab": {
          "base_uri": "https://localhost:8080/"
        },
        "id": "p3tzRImzS2Qa",
        "outputId": "0333dd92-c687-49aa-feb3-587f379f6ddf"
      },
      "outputs": [
        {
          "output_type": "stream",
          "name": "stdout",
          "text": [
            "Название: Вино из одуванчиков Авторы: Рэй Брэдбери Язык: ru Число страниц: 270\n"
          ]
        }
      ],
      "source": [
        "b = book_table(9785457499850) #Вино из одуванчиков\n",
        "print(b) # тест прошел проверку"
      ]
    },
    {
      "cell_type": "markdown",
      "metadata": {
        "id": "A1J3gWIgS2Qb"
      },
      "source": [
        "_Источник: wiki.cs.hse.ru_"
      ]
    }
  ],
  "metadata": {
    "kernelspec": {
      "display_name": "Python 3 (ipykernel)",
      "language": "python",
      "name": "python3"
    },
    "language_info": {
      "codemirror_mode": {
        "name": "ipython",
        "version": 3
      },
      "file_extension": ".py",
      "mimetype": "text/x-python",
      "name": "python",
      "nbconvert_exporter": "python",
      "pygments_lexer": "ipython3",
      "version": "3.11.5"
    },
    "colab": {
      "provenance": []
    }
  },
  "nbformat": 4,
  "nbformat_minor": 0
}
